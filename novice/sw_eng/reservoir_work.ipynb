{
 "metadata": {
  "name": "",
  "signature": "sha256:66d57476c7436d22b1c5c5fd629ec323b1d47c99b97414503ec30daa6cf97624"
 },
 "nbformat": 3,
 "nbformat_minor": 0,
 "worksheets": [
  {
   "cells": [
    {
     "cell_type": "markdown",
     "metadata": {},
     "source": [
      "Notebook for work on reservoir data."
     ]
    },
    {
     "cell_type": "code",
     "collapsed": false,
     "input": [],
     "language": "python",
     "metadata": {},
     "outputs": []
    }
   ],
   "metadata": {}
  }
 ]
}
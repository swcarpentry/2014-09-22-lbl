{
 "metadata": {
  "name": "",
  "signature": "sha256:2835db47fb9cee1cc984d7f133d04434b346ef90600a798e3452eaeaba5b7be1"
 },
 "nbformat": 3,
 "nbformat_minor": 0,
 "worksheets": [
  {
   "cells": [
    {
     "cell_type": "markdown",
     "metadata": {},
     "source": [
      "Notebook for work on reservoir data."
     ]
    },
    {
     "cell_type": "code",
     "collapsed": false,
     "input": [
      "from collections import namedtuple\n",
      "\n",
      "ResRow = namedtuple(\n",
      "    'ResRow',\n",
      "    ('name', 'abbr', 'alt', 'lat', 'lon', 'county', 'month', 'storage'))\n"
     ],
     "language": "python",
     "metadata": {},
     "outputs": [],
     "prompt_number": 1
    },
    {
     "cell_type": "code",
     "collapsed": false,
     "input": [
      "f = open('reservoir_storage_small.dat')"
     ],
     "language": "python",
     "metadata": {},
     "outputs": [],
     "prompt_number": 2
    },
    {
     "cell_type": "code",
     "collapsed": false,
     "input": [
      "f"
     ],
     "language": "python",
     "metadata": {},
     "outputs": [
      {
       "metadata": {},
       "output_type": "pyout",
       "prompt_number": 3,
       "text": [
        "<open file 'reservoir_storage_small.dat', mode 'r' at 0x104327270>"
       ]
      }
     ],
     "prompt_number": 3
    },
    {
     "cell_type": "code",
     "collapsed": false,
     "input": [
      "f.readline()"
     ],
     "language": "python",
     "metadata": {},
     "outputs": [
      {
       "metadata": {},
       "output_type": "pyout",
       "prompt_number": 4,
       "text": [
        "'name,abbr,altitude,lat,lon,county,month,storage\\n'"
       ]
      }
     ],
     "prompt_number": 4
    },
    {
     "cell_type": "code",
     "collapsed": false,
     "input": [
      "for line in f:\n",
      "    print line"
     ],
     "language": "python",
     "metadata": {},
     "outputs": [
      {
       "output_type": "stream",
       "stream": "stdout",
       "text": [
        "UPPER_KLAMATH,KLM,4097,42.25,-121.815,SISKIYOU,01/2005,353813\n",
        "\n",
        "UPPER_KLAMATH,KLM,4097,42.25,-121.815,SISKIYOU,02/2005,349370\n",
        "\n",
        "UPPER_KLAMATH,KLM,4097,42.25,-121.815,SISKIYOU,03/2005,463569\n",
        "\n",
        "SAN_PABLO,SPB,330,37.958,-122.333,CONTRA_COSTA,12/2007,18325\n",
        "\n",
        "SAN_PABLO,SPB,330,37.958,-122.333,CONTRA_COSTA,01/2008,22700\n",
        "\n",
        "NACIMIENTO,NCM,784,35.758,-120.884,SAN_LUIS_OBISPO,06/2008,175560\n",
        "\n"
       ]
      }
     ],
     "prompt_number": 5
    },
    {
     "cell_type": "code",
     "collapsed": false,
     "input": [
      "f.readline()"
     ],
     "language": "python",
     "metadata": {},
     "outputs": [
      {
       "metadata": {},
       "output_type": "pyout",
       "prompt_number": 6,
       "text": [
        "''"
       ]
      }
     ],
     "prompt_number": 6
    },
    {
     "cell_type": "code",
     "collapsed": false,
     "input": [
      "f.readline()"
     ],
     "language": "python",
     "metadata": {},
     "outputs": [
      {
       "metadata": {},
       "output_type": "pyout",
       "prompt_number": 7,
       "text": [
        "''"
       ]
      }
     ],
     "prompt_number": 7
    },
    {
     "cell_type": "code",
     "collapsed": false,
     "input": [
      "f.close()"
     ],
     "language": "python",
     "metadata": {},
     "outputs": [],
     "prompt_number": 8
    },
    {
     "cell_type": "code",
     "collapsed": false,
     "input": [
      "for x in [1, 2, 3]:\n",
      "    print x"
     ],
     "language": "python",
     "metadata": {},
     "outputs": [
      {
       "output_type": "stream",
       "stream": "stdout",
       "text": [
        "1\n",
        "2\n",
        "3\n"
       ]
      }
     ],
     "prompt_number": 9
    },
    {
     "cell_type": "code",
     "collapsed": false,
     "input": [
      "'a,b,c'.split(',')"
     ],
     "language": "python",
     "metadata": {},
     "outputs": [
      {
       "metadata": {},
       "output_type": "pyout",
       "prompt_number": 10,
       "text": [
        "['a', 'b', 'c']"
       ]
      }
     ],
     "prompt_number": 10
    },
    {
     "cell_type": "code",
     "collapsed": false,
     "input": [
      "'0, 1, 2, 3'.split(',')"
     ],
     "language": "python",
     "metadata": {},
     "outputs": [
      {
       "metadata": {},
       "output_type": "pyout",
       "prompt_number": 11,
       "text": [
        "['0', ' 1', ' 2', ' 3']"
       ]
      }
     ],
     "prompt_number": 11
    },
    {
     "cell_type": "code",
     "collapsed": false,
     "input": [
      "!head -3 reservoir_storage_small.dat"
     ],
     "language": "python",
     "metadata": {},
     "outputs": [
      {
       "output_type": "stream",
       "stream": "stdout",
       "text": [
        "name,abbr,altitude,lat,lon,county,month,storage\r\n",
        "UPPER_KLAMATH,KLM,4097,42.25,-121.815,SISKIYOU,01/2005,353813\r\n",
        "UPPER_KLAMATH,KLM,4097,42.25,-121.815,SISKIYOU,02/2005,349370\r\n"
       ]
      }
     ],
     "prompt_number": 12
    },
    {
     "cell_type": "code",
     "collapsed": false,
     "input": [
      "h = !head -1 reservoir_storage.dat\n",
      "print h"
     ],
     "language": "python",
     "metadata": {},
     "outputs": [
      {
       "output_type": "stream",
       "stream": "stdout",
       "text": [
        "['name,abbr,altitude,lat,lon,county,month,storage']\n"
       ]
      }
     ],
     "prompt_number": 13
    },
    {
     "cell_type": "code",
     "collapsed": false,
     "input": [
      "rows = []\n",
      "\n",
      "f = open('reservoir_storage_small.dat')\n",
      "f.readline()\n",
      "\n",
      "for line in f:\n",
      "    name,abbr,altitude,lat,lon,county,month,storage = line.split(',')\n",
      "    altitude = int(altitude)\n",
      "    lat = float(lat)\n",
      "    lon = float(lon)\n",
      "    storage = int(storage)\n",
      "    new_row = ResRow(name,abbr,altitude,lat,lon,county,month,storage)\n",
      "    rows.append(new_row)\n",
      "\n",
      "f.close()"
     ],
     "language": "python",
     "metadata": {},
     "outputs": [],
     "prompt_number": 14
    },
    {
     "cell_type": "code",
     "collapsed": false,
     "input": [
      "rows"
     ],
     "language": "python",
     "metadata": {},
     "outputs": [
      {
       "metadata": {},
       "output_type": "pyout",
       "prompt_number": 15,
       "text": [
        "[ResRow(name='UPPER_KLAMATH', abbr='KLM', alt=4097, lat=42.25, lon=-121.815, county='SISKIYOU', month='01/2005', storage=353813),\n",
        " ResRow(name='UPPER_KLAMATH', abbr='KLM', alt=4097, lat=42.25, lon=-121.815, county='SISKIYOU', month='02/2005', storage=349370),\n",
        " ResRow(name='UPPER_KLAMATH', abbr='KLM', alt=4097, lat=42.25, lon=-121.815, county='SISKIYOU', month='03/2005', storage=463569),\n",
        " ResRow(name='SAN_PABLO', abbr='SPB', alt=330, lat=37.958, lon=-122.333, county='CONTRA_COSTA', month='12/2007', storage=18325),\n",
        " ResRow(name='SAN_PABLO', abbr='SPB', alt=330, lat=37.958, lon=-122.333, county='CONTRA_COSTA', month='01/2008', storage=22700),\n",
        " ResRow(name='NACIMIENTO', abbr='NCM', alt=784, lat=35.758, lon=-120.884, county='SAN_LUIS_OBISPO', month='06/2008', storage=175560)]"
       ]
      }
     ],
     "prompt_number": 15
    },
    {
     "cell_type": "code",
     "collapsed": false,
     "input": [
      "row1 = rows[0]"
     ],
     "language": "python",
     "metadata": {},
     "outputs": [],
     "prompt_number": 16
    },
    {
     "cell_type": "code",
     "collapsed": false,
     "input": [
      "row1"
     ],
     "language": "python",
     "metadata": {},
     "outputs": [
      {
       "metadata": {},
       "output_type": "pyout",
       "prompt_number": 17,
       "text": [
        "ResRow(name='UPPER_KLAMATH', abbr='KLM', alt=4097, lat=42.25, lon=-121.815, county='SISKIYOU', month='01/2005', storage=353813)"
       ]
      }
     ],
     "prompt_number": 17
    },
    {
     "cell_type": "code",
     "collapsed": false,
     "input": [
      "row1.month"
     ],
     "language": "python",
     "metadata": {},
     "outputs": [
      {
       "metadata": {},
       "output_type": "pyout",
       "prompt_number": 19,
       "text": [
        "'01/2005'"
       ]
      }
     ],
     "prompt_number": 19
    },
    {
     "cell_type": "code",
     "collapsed": false,
     "input": [],
     "language": "python",
     "metadata": {},
     "outputs": []
    }
   ],
   "metadata": {}
  }
 ]
}